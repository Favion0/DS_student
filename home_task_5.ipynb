{
 "cells": [
  {
   "cell_type": "markdown",
   "metadata": {
    "toc": true
   },
   "source": [
    "<h1>Table of Contents<span class=\"tocSkip\"></span></h1>\n",
    "<div class=\"toc\"><ul class=\"toc-item\"><li><span><a href=\"#Практика\" data-toc-modified-id=\"Практика-1\"><span class=\"toc-item-num\">1&nbsp;&nbsp;</span>Практика</a></span><ul class=\"toc-item\"><li><span><a href=\"#ЦПТ-для-различных-распределений\" data-toc-modified-id=\"ЦПТ-для-различных-распределений-1.1\"><span class=\"toc-item-num\">1.1&nbsp;&nbsp;</span>ЦПТ для различных распределений</a></span><ul class=\"toc-item\"><li><span><a href=\"#Сгенерируйте-примеры-из-распределения\" data-toc-modified-id=\"Сгенерируйте-примеры-из-распределения-1.1.1\"><span class=\"toc-item-num\">1.1.1&nbsp;&nbsp;</span>Сгенерируйте примеры из распределения</a></span></li><li><span><a href=\"#Постройте-гистограмму-выборки-и-теоретическую-плотность-распределения\" data-toc-modified-id=\"Постройте-гистограмму-выборки-и-теоретическую-плотность-распределения-1.1.2\"><span class=\"toc-item-num\">1.1.2&nbsp;&nbsp;</span>Постройте гистограмму выборки и теоретическую плотность распределения</a></span></li><li><span><a href=\"#Оценим-распределение-выборочного-среднего-для-разных-объёмов-выборок\" data-toc-modified-id=\"Оценим-распределение-выборочного-среднего-для-разных-объёмов-выборок-1.1.3\"><span class=\"toc-item-num\">1.1.3&nbsp;&nbsp;</span>Оценим распределение выборочного среднего для разных объёмов выборок</a></span></li></ul></li><li><span><a href=\"#Доверительный-интервал-на-основе-ЦПТ\" data-toc-modified-id=\"Доверительный-интервал-на-основе-ЦПТ-1.2\"><span class=\"toc-item-num\">1.2&nbsp;&nbsp;</span>Доверительный интервал на основе ЦПТ</a></span></li></ul></li></ul></div>"
   ]
  },
  {
   "cell_type": "markdown",
   "metadata": {
    "id": "pDrecLU-4QjS"
   },
   "source": [
    "# Практика"
   ]
  },
  {
   "cell_type": "code",
   "execution_count": 77,
   "metadata": {
    "id": "a6XFMuQUG6jO"
   },
   "outputs": [],
   "source": [
    "import pandas as pd\n",
    "import numpy as np\n",
    "import matplotlib.pyplot as plt\n",
    "import scipy.stats as sts\n",
    "import math\n",
    "import seaborn as sns\n",
    "%matplotlib inline"
   ]
  },
  {
   "cell_type": "markdown",
   "metadata": {
    "id": "5owLnS0MHJnz"
   },
   "source": [
    "## ЦПТ для различных распределений\n",
    "Возьмите то непрерывное распределение, которое вам больше всего понравится из списка доступных в модуле [scipy.stats](https://docs.scipy.org/doc/scipy/reference/stats.html)."
   ]
  },
  {
   "cell_type": "markdown",
   "metadata": {
    "id": "v1IvIGF9IRgH"
   },
   "source": [
    "### Сгенерируйте примеры из распределения"
   ]
  },
  {
   "cell_type": "code",
   "execution_count": 2,
   "metadata": {
    "colab": {
     "base_uri": "https://localhost:8080/",
     "height": 377
    },
    "id": "l4oTC1NSHvl7",
    "outputId": "52df1553-6d91-4452-9ade-e2a62a8d7ff2"
   },
   "outputs": [
    {
     "data": {
      "text/plain": [
       "array([-0.41285353, -0.18850042,  0.71825351, -0.37327776, -0.08581597,\n",
       "        0.88503988, -0.12891283, -1.06890409,  0.81661104, -0.56205971,\n",
       "        1.04770234, -0.73923946, -1.11191182,  0.377727  ,  0.72400759,\n",
       "        1.41586542, -2.10663246,  1.41825268, -0.39386198, -0.03013025,\n",
       "        0.31121972,  1.59293237,  0.50469985,  0.55432281, -0.10391877,\n",
       "        0.50425562,  0.8836068 , -1.34450097,  1.88696497, -2.36984565,\n",
       "        0.77913219,  0.20595645, -0.88798362,  0.24429915,  1.54815818,\n",
       "       -0.99982575,  0.24752139, -2.11522874, -1.44132137, -0.5042577 ,\n",
       "        1.21121396,  1.7841664 , -1.15061057,  0.11610056,  0.44553178,\n",
       "        1.98587032, -1.39946991,  0.36671006,  2.44548451, -0.94243264,\n",
       "        1.42417305, -1.30061312, -1.55818507, -1.41403638, -1.3894951 ,\n",
       "       -0.37213132,  1.42708607,  0.31340931,  1.0022807 , -0.69197978,\n",
       "       -1.12774907, -0.13554977,  0.11420756, -0.78326185,  0.05835548,\n",
       "        0.02355748,  1.79583311, -0.12774427, -1.2692377 , -1.31826951,\n",
       "       -0.37197155, -0.29358172,  0.07837391,  0.72091431,  2.76217068,\n",
       "        1.36793307, -0.66594573,  0.63581777,  1.63562496,  0.84009976,\n",
       "       -2.07099807, -1.66503157, -1.08425361, -1.78881734, -0.17996782,\n",
       "        0.19820395,  0.5252692 , -0.56467304, -0.59666096, -0.66770145,\n",
       "       -0.14304198, -0.1181045 ,  0.84661727,  0.50314831,  0.89138745,\n",
       "       -0.78582908, -0.75938046, -0.72912138, -0.09570113, -1.00552969])"
      ]
     },
     "execution_count": 2,
     "metadata": {},
     "output_type": "execute_result"
    }
   ],
   "source": [
    "# ваш код тут\n",
    "# например вот такое распределение https://docs.scipy.org/doc/scipy/reference/generated/scipy.stats.cosine.html#scipy.stats.cosine\n",
    "cosine_rv = sts.cosine()\n",
    "sample = cosine_rv.rvs(100)\n",
    "sample"
   ]
  },
  {
   "cell_type": "code",
   "execution_count": 3,
   "metadata": {
    "colab": {
     "base_uri": "https://localhost:8080/",
     "height": 35
    },
    "id": "ScsjsI4oXgKR",
    "outputId": "86833794-f43b-436e-a0e4-c3b7483df016"
   },
   "outputs": [
    {
     "data": {
      "text/plain": [
       "dtype('float64')"
      ]
     },
     "execution_count": 3,
     "metadata": {},
     "output_type": "execute_result"
    }
   ],
   "source": [
    "sample.dtype"
   ]
  },
  {
   "cell_type": "code",
   "execution_count": 4,
   "metadata": {
    "id": "pXTNSqAOCYX4"
   },
   "outputs": [],
   "source": [
    "real_mean = cosine_rv.mean() # настоящее среднее случайной величины"
   ]
  },
  {
   "cell_type": "code",
   "execution_count": 5,
   "metadata": {
    "id": "5x4hFKaUCWSY"
   },
   "outputs": [],
   "source": [
    "real_var = cosine_rv.var() # настоящая дисперсия случайной величины"
   ]
  },
  {
   "cell_type": "markdown",
   "metadata": {
    "id": "4bNn15giIX77"
   },
   "source": [
    "### Постройте гистограмму выборки и теоретическую плотность распределения"
   ]
  },
  {
   "cell_type": "code",
   "execution_count": 6,
   "metadata": {
    "colab": {
     "base_uri": "https://localhost:8080/",
     "height": 283
    },
    "id": "CwbvqecvIcXN",
    "outputId": "ace01d5d-2552-499b-bc4f-1eb19166af83"
   },
   "outputs": [
    {
     "data": {
      "text/plain": [
       "<matplotlib.legend.Legend at 0x248733da280>"
      ]
     },
     "execution_count": 6,
     "metadata": {},
     "output_type": "execute_result"
    },
    {
     "data": {
      "image/png": "[encoded data removed]",
      "text/plain": [
       "<Figure size 432x288 with 1 Axes>"
      ]
     },
     "metadata": {
      "needs_background": "light"
     },
     "output_type": "display_data"
    }
   ],
   "source": [
    "# ваш код тут\n",
    "plt.hist(sample, density=True)\n",
    "x = np.linspace(-4,4,100)\n",
    "pdf = cosine_rv.pdf(x)\n",
    "plt.plot(x, pdf, label='теоретическая плотность', alpha=0.5)\n",
    "plt.legend()"
   ]
  },
  {
   "cell_type": "code",
   "execution_count": 7,
   "metadata": {
    "colab": {
     "base_uri": "https://localhost:8080/",
     "height": 51
    },
    "id": "rKd5XFelBqe7",
    "outputId": "32773b82-a3e9-46a2-b06d-a94d667d4f66"
   },
   "outputs": [
    {
     "name": "stdout",
     "output_type": "stream",
     "text": [
      "-0.033499900541826964\n",
      "1.1619386907578237\n"
     ]
    }
   ],
   "source": [
    "sample_mean = sample.mean() # выборочное среднее\n",
    "print(sample_mean)\n",
    "sample_var = sample.var() # выборочная дисперсия\n",
    "print(sample_var)"
   ]
  },
  {
   "cell_type": "markdown",
   "metadata": {
    "id": "qPuHR68NId_Z"
   },
   "source": [
    "### Оценим распределение выборочного среднего для разных объёмов выборок\n",
    "Для этого постройте на одном полотне гистограмму выборочных средних и теоретическое распределение выборочных средних по ЦПТ для разных объёмов выборок.\n",
    "\n",
    "Для теоретического распределение используйте настоящие значения мат ожидания и дисперсии (не приближенные на основе выборки)."
   ]
  },
  {
   "cell_type": "code",
   "execution_count": null,
   "metadata": {
    "id": "_mB8upK7J58w"
   },
   "outputs": [],
   "source": [
    "# ваш код тут\n",
    "plt.figure(figsize = (16,9))\n",
    "for N in [10, 100, 1000, 100000]:\n",
    "    means = []\n",
    "    for i in range(1000):\n",
    "        means.append(np.mean(cosine_rv.rvs(N)))\n",
    "    plt.hist(means, alpha = 0.5)\n",
    "\n",
    "plt.legend(['10', '100', '1000', '100000'])\n",
    "plt.show()"
   ]
  },
  {
   "cell_type": "code",
   "execution_count": 11,
   "metadata": {},
   "outputs": [],
   "source": [
    "N = 30\n",
    "means = []\n",
    "for i in range(1000):\n",
    "    means.append(np.mean(cosine_rv.rvs(N)))\n",
    "\n",
    "means = np.array(means).astype(np.float32)"
   ]
  },
  {
   "cell_type": "code",
   "execution_count": 17,
   "metadata": {},
   "outputs": [
    {
     "data": {
      "text/plain": [
       "[]"
      ]
     },
     "execution_count": 17,
     "metadata": {},
     "output_type": "execute_result"
    },
    {
     "data": {
      "image/png": "[encoded data removed]",
      "text/plain": [
       "<Figure size 720x504 with 1 Axes>"
      ]
     },
     "metadata": {
      "needs_background": "light"
     },
     "output_type": "display_data"
    }
   ],
   "source": [
    "plt.figure(figsize = (10,7))\n",
    "norm_rv = sts.norm(loc=sample_mean, scale=sample_var / np.sqrt(N))\n",
    "plt.hist(means, density=True, bins=40)\n",
    "x = np.linspace(-2, 2, 500)\n",
    "pdf = norm_rv.pdf(x)\n",
    "plt.plot(x, pdf, label='Теоретическая плотность', alpha=0.5)\n",
    "plt.legend()\n",
    "plt.plot()"
   ]
  },
  {
   "cell_type": "markdown",
   "metadata": {
    "id": "TF1onBy_J7sX"
   },
   "source": [
    "Как вы считаете, для выбранного распределения апроксимация распределения выборочного среднего работает хорошо или плохо?\n",
    "**Ваш ответ:**"
   ]
  },
  {
   "cell_type": "markdown",
   "metadata": {},
   "source": [
    "Да, дейтсвительно, при большой выборке можно апроксимировать к нормальному распределению в достаточно хорошей степени"
   ]
  },
  {
   "cell_type": "markdown",
   "metadata": {
    "id": "xEyWxfjSfxGp"
   },
   "source": [
    "## Доверительный интервал на основе ЦПТ\n",
    "Возьмите данные для оттока телеком компании, и постройте доверительные интервалы для среднего значения total day calls, используя центральную предельную теорему в разбиении по колонке churn (ушел/не ушел). \n",
    "\n",
    "Для оценки дисперсии используйте несмещенную оценку (параметр ddof=1).\n",
    "\n",
    "Сделайте оценку с использованием явной формулы для z интервала, а затем с помощью функций \n",
    "`from statsmodels.stats.weightstats import _zconfint_generic`. Сравните результаты.\n",
    "\n",
    "\n",
    "Ссылка на данные: https://drive.google.com/file/d/1X_drKqoarnU2Sz2har7uSCsgyhh8Xtz8/view?usp=sharing"
   ]
  },
  {
   "cell_type": "code",
   "execution_count": 23,
   "metadata": {
    "id": "56V0za8GfxeL"
   },
   "outputs": [],
   "source": [
    "df = pd.read_csv('../HW_5/telecom_churn.csv', usecols = ('total day calls', 'churn'))"
   ]
  },
  {
   "cell_type": "code",
   "execution_count": 103,
   "metadata": {},
   "outputs": [
    {
     "data": {
      "image/png": "[encoded data removed]",
      "text/plain": [
       "<Figure size 432x288 with 1 Axes>"
      ]
     },
     "metadata": {
      "needs_background": "light"
     },
     "output_type": "display_data"
    }
   ],
   "source": [
    "mu = df['total day calls'].mean()\n",
    "sigma = np.std(df['total day calls'], ddof = 1)\n",
    "N = df['total day calls'].count().astype(int)\n",
    "norm_rv = sts.norm(mu, sigma)\n",
    "alpha = 0.05\n",
    "sample = np.linspace(40, 160, N)\n",
    "pdf = norm_rv.pdf(sample)\n",
    "plt.plot(sample, pdf)\n",
    "q_a_m = norm_rv.ppf(alpha/2)\n",
    "q_a_p = norm_rv.ppf(1-alpha/2)\n",
    "to_fill = np.linspace(q_a_m, q_a_p, 100)\n",
    "plt.fill_between(to_fill, norm_rv.pdf(to_fill))\n",
    "plt.show()"
   ]
  },
  {
   "cell_type": "code",
   "execution_count": 105,
   "metadata": {},
   "outputs": [],
   "source": [
    "from statsmodels.stats.weightstats import _zconfint_generic"
   ]
  },
  {
   "cell_type": "code",
   "execution_count": 107,
   "metadata": {},
   "outputs": [
    {
     "data": {
      "text/plain": [
       "(61.10096131534519, 139.7703258133677)"
      ]
     },
     "execution_count": 107,
     "metadata": {},
     "output_type": "execute_result"
    }
   ],
   "source": [
    "_zconfint_generic(mu, sigma, alpha, 'two-sided')"
   ]
  }
 ],
 "metadata": {
  "colab": {
   "collapsed_sections": [],
   "name": "Практика к занятию 12.ipynb",
   "provenance": []
  },
  "kernelspec": {
   "display_name": "Python 3",
   "language": "python",
   "name": "python3"
  },
  "language_info": {
   "codemirror_mode": {
    "name": "ipython",
    "version": 3
   },
   "file_extension": ".py",
   "mimetype": "text/x-python",
   "name": "python",
   "nbconvert_exporter": "python",
   "pygments_lexer": "ipython3",
   "version": "3.8.8"
  },
  "toc": {
   "base_numbering": 1,
   "nav_menu": {},
   "number_sections": true,
   "sideBar": true,
   "skip_h1_title": false,
   "title_cell": "Table of Contents",
   "title_sidebar": "Contents",
   "toc_cell": true,
   "toc_position": {},
   "toc_section_display": true,
   "toc_window_display": false
  }
 },
 "nbformat": 4,
 "nbformat_minor": 1
}
