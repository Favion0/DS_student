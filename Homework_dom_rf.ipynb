{
 "cells": [
  {
   "cell_type": "markdown",
   "id": "a334c0f8",
   "metadata": {
    "toc": true
   },
   "source": [
    "<h1>Строящееся жилье<span class=\"tocSkip\"></span></h1>\n",
    "<div class=\"toc\"><ul class=\"toc-item\"></ul></div>"
   ]
  },
  {
   "cell_type": "code",
   "execution_count": 121,
   "id": "c19d6090",
   "metadata": {},
   "outputs": [],
   "source": [
    "import requests\n",
    "import pandas as pd\n",
    "import numpy as np"
   ]
  },
  {
   "cell_type": "code",
   "execution_count": 122,
   "id": "b16ede1b",
   "metadata": {},
   "outputs": [],
   "source": [
    "offset_ = 2001\n",
    "limit_ = 1000\n",
    "url = f'https://xn--80az8a.xn--d1aqf.xn--p1ai/%D1%81%D0%B5%D1%80%D0%B2%D0%B8%D1%81%D1%8B/api/kn/object?offset={offset_}&limit={limit_}&sortField=devId.devShortCleanNm&sortType=asc&objStatus=0'\n",
    "res = requests.get(url)\n",
    "objects_data = res.json()"
   ]
  },
  {
   "cell_type": "code",
   "execution_count": 123,
   "id": "cbc79fe2",
   "metadata": {},
   "outputs": [
    {
     "data": {
      "text/plain": [
       "[31790, 44223, 40292, 40293, 42142]"
      ]
     },
     "execution_count": 123,
     "metadata": {},
     "output_type": "execute_result"
    }
   ],
   "source": [
    "objects_list = objects_data.get('data').get('list')\n",
    "objids = [x.get('objId') for x in objects_list]\n",
    "len(objids)\n",
    "objids[0:5]"
   ]
  },
  {
   "cell_type": "code",
   "execution_count": 4,
   "id": "cec352c0",
   "metadata": {},
   "outputs": [],
   "source": [
    "obj_url = 'https://xn--80az8a.xn--d1aqf.xn--p1ai/%D1%81%D0%B5%D1%80%D0%B2%D0%B8%D1%81%D1%8B/api/object/44223'\n",
    "obj_res = requests.get(obj_url)\n",
    "dom_rf = (pd.json_normalize(obj_res.json()))"
   ]
  },
  {
   "cell_type": "code",
   "execution_count": 5,
   "id": "9517ef5f",
   "metadata": {},
   "outputs": [],
   "source": [
    "for x in objids[1:]:\n",
    "    obj_url = f'https://xn--80az8a.xn--d1aqf.xn--p1ai/%D1%81%D0%B5%D1%80%D0%B2%D0%B8%D1%81%D1%8B/api/object/{x}'\n",
    "    obj_res = requests.get(obj_url)\n",
    "    dom_rf = pd.concat([dom_rf, pd.json_normalize(obj_res.json())])"
   ]
  },
  {
   "cell_type": "code",
   "execution_count": 8,
   "id": "2469d278",
   "metadata": {},
   "outputs": [
    {
     "data": {
      "text/html": [
       "<div>\n",
       "<style scoped>\n",
       "    .dataframe tbody tr th:only-of-type {\n",
       "        vertical-align: middle;\n",
       "    }\n",
       "\n",
       "    .dataframe tbody tr th {\n",
       "        vertical-align: top;\n",
       "    }\n",
       "\n",
       "    .dataframe thead th {\n",
       "        text-align: right;\n",
       "    }\n",
       "</style>\n",
       "<table border=\"1\" class=\"dataframe\">\n",
       "  <thead>\n",
       "    <tr style=\"text-align: right;\">\n",
       "      <th></th>\n",
       "      <th>errcode</th>\n",
       "      <th>data.id</th>\n",
       "      <th>data.pdId</th>\n",
       "      <th>data.developer.devId</th>\n",
       "      <th>data.developer.devShortCleanNm</th>\n",
       "      <th>data.developer.devShortNm</th>\n",
       "      <th>data.developer.devFullCleanNm</th>\n",
       "      <th>data.developer.problObjCnt</th>\n",
       "      <th>data.developer.buildObjCnt</th>\n",
       "      <th>data.developer.comissObjCnt</th>\n",
       "      <th>...</th>\n",
       "      <th>data.metro.time</th>\n",
       "      <th>data.metro.isWalk</th>\n",
       "      <th>data.metro.colors</th>\n",
       "      <th>data.generalContractorNm</th>\n",
       "      <th>data.transportDistIndex</th>\n",
       "      <th>data.complexShortNm</th>\n",
       "      <th>data.developer.bankruptStage.bankruptStageCd</th>\n",
       "      <th>data.developer.bankruptStage.bankruptStageDesc</th>\n",
       "      <th>data.developer.bankruptStage.bankruptLawUrl</th>\n",
       "      <th>data.developer.orgBankruptMsgDttm</th>\n",
       "    </tr>\n",
       "  </thead>\n",
       "  <tbody>\n",
       "    <tr>\n",
       "      <th>0</th>\n",
       "      <td>0</td>\n",
       "      <td>44223</td>\n",
       "      <td>535485</td>\n",
       "      <td>6130</td>\n",
       "      <td>ОПТИМА-СТРОЙ</td>\n",
       "      <td>ОПТИМА-СТРОЙ</td>\n",
       "      <td>ОПТИМА-СТРОЙ</td>\n",
       "      <td>0</td>\n",
       "      <td>3</td>\n",
       "      <td>0</td>\n",
       "      <td>...</td>\n",
       "      <td>NaN</td>\n",
       "      <td>NaN</td>\n",
       "      <td>NaN</td>\n",
       "      <td>NaN</td>\n",
       "      <td>NaN</td>\n",
       "      <td>NaN</td>\n",
       "      <td>NaN</td>\n",
       "      <td>NaN</td>\n",
       "      <td>NaN</td>\n",
       "      <td>NaN</td>\n",
       "    </tr>\n",
       "    <tr>\n",
       "      <th>0</th>\n",
       "      <td>0</td>\n",
       "      <td>40292</td>\n",
       "      <td>434205</td>\n",
       "      <td>6130</td>\n",
       "      <td>ОПТИМА-СТРОЙ</td>\n",
       "      <td>ОПТИМА-СТРОЙ</td>\n",
       "      <td>ОПТИМА-СТРОЙ</td>\n",
       "      <td>0</td>\n",
       "      <td>3</td>\n",
       "      <td>0</td>\n",
       "      <td>...</td>\n",
       "      <td>NaN</td>\n",
       "      <td>NaN</td>\n",
       "      <td>NaN</td>\n",
       "      <td>NaN</td>\n",
       "      <td>NaN</td>\n",
       "      <td>NaN</td>\n",
       "      <td>NaN</td>\n",
       "      <td>NaN</td>\n",
       "      <td>NaN</td>\n",
       "      <td>NaN</td>\n",
       "    </tr>\n",
       "    <tr>\n",
       "      <th>0</th>\n",
       "      <td>0</td>\n",
       "      <td>44223</td>\n",
       "      <td>535485</td>\n",
       "      <td>6130</td>\n",
       "      <td>ОПТИМА-СТРОЙ</td>\n",
       "      <td>ОПТИМА-СТРОЙ</td>\n",
       "      <td>ОПТИМА-СТРОЙ</td>\n",
       "      <td>0</td>\n",
       "      <td>3</td>\n",
       "      <td>0</td>\n",
       "      <td>...</td>\n",
       "      <td>NaN</td>\n",
       "      <td>NaN</td>\n",
       "      <td>NaN</td>\n",
       "      <td>NaN</td>\n",
       "      <td>NaN</td>\n",
       "      <td>NaN</td>\n",
       "      <td>NaN</td>\n",
       "      <td>NaN</td>\n",
       "      <td>NaN</td>\n",
       "      <td>NaN</td>\n",
       "    </tr>\n",
       "  </tbody>\n",
       "</table>\n",
       "<p>3 rows × 105 columns</p>\n",
       "</div>"
      ],
      "text/plain": [
       "  errcode  data.id  data.pdId  data.developer.devId  \\\n",
       "0       0    44223     535485                  6130   \n",
       "0       0    40292     434205                  6130   \n",
       "0       0    44223     535485                  6130   \n",
       "\n",
       "  data.developer.devShortCleanNm data.developer.devShortNm  \\\n",
       "0                   ОПТИМА-СТРОЙ              ОПТИМА-СТРОЙ   \n",
       "0                   ОПТИМА-СТРОЙ              ОПТИМА-СТРОЙ   \n",
       "0                   ОПТИМА-СТРОЙ              ОПТИМА-СТРОЙ   \n",
       "\n",
       "  data.developer.devFullCleanNm  data.developer.problObjCnt  \\\n",
       "0                  ОПТИМА-СТРОЙ                           0   \n",
       "0                  ОПТИМА-СТРОЙ                           0   \n",
       "0                  ОПТИМА-СТРОЙ                           0   \n",
       "\n",
       "   data.developer.buildObjCnt  data.developer.comissObjCnt  ...  \\\n",
       "0                           3                            0  ...   \n",
       "0                           3                            0  ...   \n",
       "0                           3                            0  ...   \n",
       "\n",
       "  data.metro.time data.metro.isWalk data.metro.colors  \\\n",
       "0             NaN               NaN               NaN   \n",
       "0             NaN               NaN               NaN   \n",
       "0             NaN               NaN               NaN   \n",
       "\n",
       "  data.generalContractorNm data.transportDistIndex data.complexShortNm  \\\n",
       "0                      NaN                     NaN                 NaN   \n",
       "0                      NaN                     NaN                 NaN   \n",
       "0                      NaN                     NaN                 NaN   \n",
       "\n",
       "  data.developer.bankruptStage.bankruptStageCd  \\\n",
       "0                                          NaN   \n",
       "0                                          NaN   \n",
       "0                                          NaN   \n",
       "\n",
       "  data.developer.bankruptStage.bankruptStageDesc  \\\n",
       "0                                            NaN   \n",
       "0                                            NaN   \n",
       "0                                            NaN   \n",
       "\n",
       "  data.developer.bankruptStage.bankruptLawUrl  \\\n",
       "0                                         NaN   \n",
       "0                                         NaN   \n",
       "0                                         NaN   \n",
       "\n",
       "   data.developer.orgBankruptMsgDttm  \n",
       "0                                NaN  \n",
       "0                                NaN  \n",
       "0                                NaN  \n",
       "\n",
       "[3 rows x 105 columns]"
      ]
     },
     "execution_count": 8,
     "metadata": {},
     "output_type": "execute_result"
    }
   ],
   "source": [
    "dom_rf.head(3)"
   ]
  },
  {
   "cell_type": "code",
   "execution_count": 9,
   "id": "21fb5b00",
   "metadata": {},
   "outputs": [
    {
     "data": {
      "text/plain": [
       "(1000, 105)"
      ]
     },
     "execution_count": 9,
     "metadata": {},
     "output_type": "execute_result"
    }
   ],
   "source": [
    "dom_rf.shape"
   ]
  },
  {
   "cell_type": "code",
   "execution_count": 125,
   "id": "5637e596",
   "metadata": {},
   "outputs": [],
   "source": [
    "from sqlalchemy import create_engine\n",
    "engine = create_engine('sqlite://', echo=False)\n",
    "dom_rf.to_excel('dom_rf.xlsx')\n",
    "dom_rf.to_pickle('./dom_rf.pkl')\n",
    "dom_rf.to_sql('dom_rf', con=engine)"
   ]
  }
 ],
 "metadata": {
  "kernelspec": {
   "display_name": "Python 3",
   "language": "python",
   "name": "python3"
  },
  "language_info": {
   "codemirror_mode": {
    "name": "ipython",
    "version": 3
   },
   "file_extension": ".py",
   "mimetype": "text/x-python",
   "name": "python",
   "nbconvert_exporter": "python",
   "pygments_lexer": "ipython3",
   "version": "3.8.8"
  },
  "toc": {
   "base_numbering": 1,
   "nav_menu": {},
   "number_sections": true,
   "sideBar": true,
   "skip_h1_title": false,
   "title_cell": "Table of Contents",
   "title_sidebar": "Contents",
   "toc_cell": true,
   "toc_position": {},
   "toc_section_display": true,
   "toc_window_display": false
  }
 },
 "nbformat": 4,
 "nbformat_minor": 5
}
