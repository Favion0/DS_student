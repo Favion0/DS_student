{
 "cells": [
  {
   "cell_type": "markdown",
   "metadata": {
    "toc": true
   },
   "source": [
    "<h1>Table of Contents<span class=\"tocSkip\"></span></h1>\n",
    "<div class=\"toc\"><ul class=\"toc-item\"><li><span><a href=\"#Практика\" data-toc-modified-id=\"Практика-1\"><span class=\"toc-item-num\">1&nbsp;&nbsp;</span>Практика</a></span><ul class=\"toc-item\"><li><span><a href=\"#Загрузка-DataFrame\" data-toc-modified-id=\"Загрузка-DataFrame-1.1\"><span class=\"toc-item-num\">1.1&nbsp;&nbsp;</span>Загрузка DataFrame</a></span><ul class=\"toc-item\"><li><span><a href=\"#Задача-1\" data-toc-modified-id=\"Задача-1-1.1.1\"><span class=\"toc-item-num\">1.1.1&nbsp;&nbsp;</span>Задача 1</a></span></li></ul></li><li><span><a href=\"#Теория-вероятности.-События\" data-toc-modified-id=\"Теория-вероятности.-События-1.2\"><span class=\"toc-item-num\">1.2&nbsp;&nbsp;</span>Теория вероятности. События</a></span><ul class=\"toc-item\"><li><span><a href=\"#Задача-2\" data-toc-modified-id=\"Задача-2-1.2.1\"><span class=\"toc-item-num\">1.2.1&nbsp;&nbsp;</span>Задача 2</a></span></li><li><span><a href=\"#Задача-3\" data-toc-modified-id=\"Задача-3-1.2.2\"><span class=\"toc-item-num\">1.2.2&nbsp;&nbsp;</span>Задача 3</a></span></li></ul></li></ul></li></ul></div>"
   ]
  },
  {
   "cell_type": "markdown",
   "metadata": {
    "id": "pDrecLU-4QjS"
   },
   "source": [
    "# Практика\n",
    "Используемые библиотеки"
   ]
  },
  {
   "cell_type": "code",
   "execution_count": 1,
   "metadata": {},
   "outputs": [],
   "source": [
    "import pandas as pd\n",
    "import numpy as np\n",
    "import requests\n",
    "import io\n",
    "import re"
   ]
  },
  {
   "cell_type": "markdown",
   "metadata": {},
   "source": [
    "## Загрузка DataFrame\n",
    "### Задача 1\n",
    "На основании данных портала \"Открытые данные России\" о результатах Химического анализа родника в Нескучном саду https://data.gov.ru/opendata/7708660670-rodnik-neskuchniy-sad\n",
    "средствами библиотеки __Pandas__ сформируйте поле выводов по каждому анализирумомому параметру.\n",
    "Например, по показателю _pH_ получен результат _8.4 единицы pH_ при нормативе от _6 до 9 единиц pH_. Т.о. по данному показателю результат анализа в норме.\n",
    "Для решения задачи необходимо программно \"прочитать и понять\" значение столбца \"Норматив\" и выделенное численное значение сравнить с нормативом согласно логике норматива. Например, __6 >= pH >= 9__.\n",
    "В итоговом DataFrame столбец \"Показатель\" сделайте индексным.\n",
    "\n",
    "\n",
    "Загзрузка DataFrame выполняется непосредственно c сайта \"Открытые данные России\" https://data.gov.ru/opendata/7708660670-rodnik-neskuchniy-sad/data-20160608T1215-structure-20160608T1215.csv (см. код ниже).\n"
   ]
  },
  {
   "cell_type": "code",
   "execution_count": 213,
   "metadata": {},
   "outputs": [
    {
     "data": {
      "text/html": [
       "<div>\n",
       "<style scoped>\n",
       "    .dataframe tbody tr th:only-of-type {\n",
       "        vertical-align: middle;\n",
       "    }\n",
       "\n",
       "    .dataframe tbody tr th {\n",
       "        vertical-align: top;\n",
       "    }\n",
       "\n",
       "    .dataframe thead th {\n",
       "        text-align: right;\n",
       "    }\n",
       "</style>\n",
       "<table border=\"1\" class=\"dataframe\">\n",
       "  <thead>\n",
       "    <tr style=\"text-align: right;\">\n",
       "      <th></th>\n",
       "      <th>Показатель</th>\n",
       "      <th>Единица измерений</th>\n",
       "      <th>Результат анализа</th>\n",
       "      <th>Норматив</th>\n",
       "    </tr>\n",
       "  </thead>\n",
       "  <tbody>\n",
       "    <tr>\n",
       "      <th>0</th>\n",
       "      <td>pH</td>\n",
       "      <td>единицы pH</td>\n",
       "      <td>8.4</td>\n",
       "      <td>в пределах 6-9</td>\n",
       "    </tr>\n",
       "    <tr>\n",
       "      <th>1</th>\n",
       "      <td>Запах</td>\n",
       "      <td>баллы</td>\n",
       "      <td>1</td>\n",
       "      <td>не более 2-3</td>\n",
       "    </tr>\n",
       "    <tr>\n",
       "      <th>2</th>\n",
       "      <td>Цветность</td>\n",
       "      <td>градусы</td>\n",
       "      <td>б/цвета</td>\n",
       "      <td>не более 30</td>\n",
       "    </tr>\n",
       "    <tr>\n",
       "      <th>3</th>\n",
       "      <td>Жёсткость</td>\n",
       "      <td>мг-эквл/дм3</td>\n",
       "      <td>9.199999999999999</td>\n",
       "      <td>в пределах 7-10</td>\n",
       "    </tr>\n",
       "    <tr>\n",
       "      <th>4</th>\n",
       "      <td>Аммиак и аммоний-ион (по азоту)</td>\n",
       "      <td>мг/дм3</td>\n",
       "      <td>0.42</td>\n",
       "      <td>не более 1,5</td>\n",
       "    </tr>\n",
       "    <tr>\n",
       "      <th>5</th>\n",
       "      <td>Нитриты (по NO2)</td>\n",
       "      <td>мг/дм3</td>\n",
       "      <td>0.017</td>\n",
       "      <td>не более 3,3</td>\n",
       "    </tr>\n",
       "    <tr>\n",
       "      <th>6</th>\n",
       "      <td>Нитраты (по NO3)</td>\n",
       "      <td>мг/дм3</td>\n",
       "      <td>24</td>\n",
       "      <td>не более 45</td>\n",
       "    </tr>\n",
       "    <tr>\n",
       "      <th>7</th>\n",
       "      <td>Фосфаты (P)</td>\n",
       "      <td>мг/дм3</td>\n",
       "      <td>0.36</td>\n",
       "      <td>не более 3,5</td>\n",
       "    </tr>\n",
       "    <tr>\n",
       "      <th>8</th>\n",
       "      <td>Хлориды (Cl)</td>\n",
       "      <td>мг/дм3</td>\n",
       "      <td>200</td>\n",
       "      <td>не более 350</td>\n",
       "    </tr>\n",
       "    <tr>\n",
       "      <th>9</th>\n",
       "      <td>Сульфаты (SO4)</td>\n",
       "      <td>мг/дм3</td>\n",
       "      <td>189.5</td>\n",
       "      <td>не более 500</td>\n",
       "    </tr>\n",
       "    <tr>\n",
       "      <th>10</th>\n",
       "      <td>Железо (включая хлорное железо) по Fe</td>\n",
       "      <td>мг/дм3</td>\n",
       "      <td>0.019</td>\n",
       "      <td>не более 0,3</td>\n",
       "    </tr>\n",
       "    <tr>\n",
       "      <th>11</th>\n",
       "      <td>Нефть</td>\n",
       "      <td>мг/дм3</td>\n",
       "      <td>0.55</td>\n",
       "      <td>не более 0,3</td>\n",
       "    </tr>\n",
       "    <tr>\n",
       "      <th>12</th>\n",
       "      <td>Общая минерализация (сухой остаток)</td>\n",
       "      <td>мг/дм3</td>\n",
       "      <td>590</td>\n",
       "      <td>не более 1000</td>\n",
       "    </tr>\n",
       "    <tr>\n",
       "      <th>13</th>\n",
       "      <td>Окисляемость перманганатная</td>\n",
       "      <td>мг/дм3</td>\n",
       "      <td>2</td>\n",
       "      <td>не более 0,5</td>\n",
       "    </tr>\n",
       "  </tbody>\n",
       "</table>\n",
       "</div>"
      ],
      "text/plain": [
       "                               Показатель Единица измерений  \\\n",
       "0                                      pH        единицы pH   \n",
       "1                                   Запах             баллы   \n",
       "2                               Цветность           градусы   \n",
       "3                               Жёсткость       мг-эквл/дм3   \n",
       "4         Аммиак и аммоний-ион (по азоту)            мг/дм3   \n",
       "5                        Нитриты (по NO2)            мг/дм3   \n",
       "6                        Нитраты (по NO3)            мг/дм3   \n",
       "7                             Фосфаты (P)            мг/дм3   \n",
       "8                            Хлориды (Cl)            мг/дм3   \n",
       "9                          Сульфаты (SO4)            мг/дм3   \n",
       "10  Железо (включая хлорное железо) по Fe            мг/дм3   \n",
       "11                                  Нефть            мг/дм3   \n",
       "12    Общая минерализация (сухой остаток)            мг/дм3   \n",
       "13            Окисляемость перманганатная            мг/дм3   \n",
       "\n",
       "    Результат анализа         Норматив  \n",
       "0                 8.4   в пределах 6-9  \n",
       "1                   1     не более 2-3  \n",
       "2             б/цвета      не более 30  \n",
       "3   9.199999999999999  в пределах 7-10  \n",
       "4                0.42     не более 1,5  \n",
       "5               0.017     не более 3,3  \n",
       "6                  24      не более 45  \n",
       "7                0.36     не более 3,5  \n",
       "8                 200     не более 350  \n",
       "9               189.5     не более 500  \n",
       "10              0.019     не более 0,3  \n",
       "11               0.55     не более 0,3  \n",
       "12                590    не более 1000  \n",
       "13                  2     не более 0,5  "
      ]
     },
     "metadata": {},
     "output_type": "display_data"
    }
   ],
   "source": [
    "url =\"https://data.gov.ru/opendata/7708660670-rodnik-neskuchniy-sad/data-20160608T1215-structure-20160608T1215.csv\"\n",
    "s = requests.get(url).content\n",
    "df=pd.read_csv(io.StringIO(s.decode('UTF8')))\n",
    "display(df)"
   ]
  },
  {
   "cell_type": "code",
   "execution_count": 214,
   "metadata": {},
   "outputs": [
    {
     "name": "stderr",
     "output_type": "stream",
     "text": [
      "C:\\Users\\elena\\anaconda3\\lib\\site-packages\\pandas\\core\\indexing.py:1637: SettingWithCopyWarning: \n",
      "A value is trying to be set on a copy of a slice from a DataFrame\n",
      "\n",
      "See the caveats in the documentation: https://pandas.pydata.org/pandas-docs/stable/user_guide/indexing.html#returning-a-view-versus-a-copy\n",
      "  self._setitem_single_block(indexer, value, name)\n"
     ]
    }
   ],
   "source": [
    "# Решение\n",
    "df = df.set_index('Показатель')\n",
    "df['В норме?'] = np.nan\n",
    "df_copy = df.copy()\n",
    "df_copy.Норматив.iloc[1] = 'не более 3'\n",
    "df_copy.Норматив.iloc[2] = '0'"
   ]
  },
  {
   "cell_type": "code",
   "execution_count": 217,
   "metadata": {},
   "outputs": [
    {
     "name": "stderr",
     "output_type": "stream",
     "text": [
      "C:\\Users\\elena\\anaconda3\\lib\\site-packages\\pandas\\core\\indexing.py:1637: SettingWithCopyWarning: \n",
      "A value is trying to be set on a copy of a slice from a DataFrame\n",
      "\n",
      "See the caveats in the documentation: https://pandas.pydata.org/pandas-docs/stable/user_guide/indexing.html#returning-a-view-versus-a-copy\n",
      "  self._setitem_single_block(indexer, value, name)\n"
     ]
    }
   ],
   "source": [
    "for i in range(len(df)):\n",
    "    if ',' in df_copy.Норматив.iloc[i]:\n",
    "        df_copy.Норматив.iloc[i] = df_copy.Норматив.iloc[i].replace(',','.')"
   ]
  },
  {
   "cell_type": "code",
   "execution_count": 218,
   "metadata": {},
   "outputs": [],
   "source": [
    "for i in range(len(df)):\n",
    "    if 'в пределах' in df_copy.Норматив.iloc[i]:\n",
    "        df_copy.Норматив.iloc[i] = df_copy.Норматив.iloc[i].split()[2].split('-')\n",
    "        if float(df_copy['Результат анализа'].iloc[i]) > float(df_copy.Норматив.iloc[i][0]):\n",
    "            if float(df_copy['Результат анализа'].iloc[i]) < float(df_copy.Норматив.iloc[i][1]):\n",
    "                    df['В норме?'].iloc[i] = 'Да'\n",
    "        else:\n",
    "            df['В норме?'].iloc[i] = 'Нет'\n",
    "    elif 'не более' in df_copy.Норматив.iloc[i]:     \n",
    "        df_copy.Норматив.iloc[i] = df_copy.Норматив.iloc[i].split()[2]\n",
    "        if float(df_copy['Результат анализа'].iloc[i]) < float(df_copy.Норматив.iloc[i]):\n",
    "            df['В норме?'].iloc[i] = 'Да'\n",
    "        else:\n",
    "            df['В норме?'].iloc[i] = 'Нет'"
   ]
  },
  {
   "cell_type": "code",
   "execution_count": 219,
   "metadata": {},
   "outputs": [
    {
     "data": {
      "text/html": [
       "<div>\n",
       "<style scoped>\n",
       "    .dataframe tbody tr th:only-of-type {\n",
       "        vertical-align: middle;\n",
       "    }\n",
       "\n",
       "    .dataframe tbody tr th {\n",
       "        vertical-align: top;\n",
       "    }\n",
       "\n",
       "    .dataframe thead th {\n",
       "        text-align: right;\n",
       "    }\n",
       "</style>\n",
       "<table border=\"1\" class=\"dataframe\">\n",
       "  <thead>\n",
       "    <tr style=\"text-align: right;\">\n",
       "      <th></th>\n",
       "      <th>Единица измерений</th>\n",
       "      <th>Результат анализа</th>\n",
       "      <th>Норматив</th>\n",
       "      <th>В норме?</th>\n",
       "    </tr>\n",
       "    <tr>\n",
       "      <th>Показатель</th>\n",
       "      <th></th>\n",
       "      <th></th>\n",
       "      <th></th>\n",
       "      <th></th>\n",
       "    </tr>\n",
       "  </thead>\n",
       "  <tbody>\n",
       "    <tr>\n",
       "      <th>pH</th>\n",
       "      <td>единицы pH</td>\n",
       "      <td>8.4</td>\n",
       "      <td>в пределах 6-9</td>\n",
       "      <td>Да</td>\n",
       "    </tr>\n",
       "    <tr>\n",
       "      <th>Запах</th>\n",
       "      <td>баллы</td>\n",
       "      <td>1</td>\n",
       "      <td>не более 2-3</td>\n",
       "      <td>Да</td>\n",
       "    </tr>\n",
       "    <tr>\n",
       "      <th>Цветность</th>\n",
       "      <td>градусы</td>\n",
       "      <td>б/цвета</td>\n",
       "      <td>не более 30</td>\n",
       "      <td>NaN</td>\n",
       "    </tr>\n",
       "    <tr>\n",
       "      <th>Жёсткость</th>\n",
       "      <td>мг-эквл/дм3</td>\n",
       "      <td>9.199999999999999</td>\n",
       "      <td>в пределах 7-10</td>\n",
       "      <td>Да</td>\n",
       "    </tr>\n",
       "    <tr>\n",
       "      <th>Аммиак и аммоний-ион (по азоту)</th>\n",
       "      <td>мг/дм3</td>\n",
       "      <td>0.42</td>\n",
       "      <td>не более 1,5</td>\n",
       "      <td>Да</td>\n",
       "    </tr>\n",
       "    <tr>\n",
       "      <th>Нитриты (по NO2)</th>\n",
       "      <td>мг/дм3</td>\n",
       "      <td>0.017</td>\n",
       "      <td>не более 3,3</td>\n",
       "      <td>Да</td>\n",
       "    </tr>\n",
       "    <tr>\n",
       "      <th>Нитраты (по NO3)</th>\n",
       "      <td>мг/дм3</td>\n",
       "      <td>24</td>\n",
       "      <td>не более 45</td>\n",
       "      <td>Да</td>\n",
       "    </tr>\n",
       "    <tr>\n",
       "      <th>Фосфаты (P)</th>\n",
       "      <td>мг/дм3</td>\n",
       "      <td>0.36</td>\n",
       "      <td>не более 3,5</td>\n",
       "      <td>Да</td>\n",
       "    </tr>\n",
       "    <tr>\n",
       "      <th>Хлориды (Cl)</th>\n",
       "      <td>мг/дм3</td>\n",
       "      <td>200</td>\n",
       "      <td>не более 350</td>\n",
       "      <td>Да</td>\n",
       "    </tr>\n",
       "    <tr>\n",
       "      <th>Сульфаты (SO4)</th>\n",
       "      <td>мг/дм3</td>\n",
       "      <td>189.5</td>\n",
       "      <td>не более 500</td>\n",
       "      <td>Да</td>\n",
       "    </tr>\n",
       "    <tr>\n",
       "      <th>Железо (включая хлорное железо) по Fe</th>\n",
       "      <td>мг/дм3</td>\n",
       "      <td>0.019</td>\n",
       "      <td>не более 0,3</td>\n",
       "      <td>Да</td>\n",
       "    </tr>\n",
       "    <tr>\n",
       "      <th>Нефть</th>\n",
       "      <td>мг/дм3</td>\n",
       "      <td>0.55</td>\n",
       "      <td>не более 0,3</td>\n",
       "      <td>Нет</td>\n",
       "    </tr>\n",
       "    <tr>\n",
       "      <th>Общая минерализация (сухой остаток)</th>\n",
       "      <td>мг/дм3</td>\n",
       "      <td>590</td>\n",
       "      <td>не более 1000</td>\n",
       "      <td>Да</td>\n",
       "    </tr>\n",
       "    <tr>\n",
       "      <th>Окисляемость перманганатная</th>\n",
       "      <td>мг/дм3</td>\n",
       "      <td>2</td>\n",
       "      <td>не более 0,5</td>\n",
       "      <td>Нет</td>\n",
       "    </tr>\n",
       "  </tbody>\n",
       "</table>\n",
       "</div>"
      ],
      "text/plain": [
       "                                      Единица измерений  Результат анализа  \\\n",
       "Показатель                                                                   \n",
       "pH                                           единицы pH                8.4   \n",
       "Запах                                             баллы                  1   \n",
       "Цветность                                       градусы            б/цвета   \n",
       "Жёсткость                                   мг-эквл/дм3  9.199999999999999   \n",
       "Аммиак и аммоний-ион (по азоту)                  мг/дм3               0.42   \n",
       "Нитриты (по NO2)                                 мг/дм3              0.017   \n",
       "Нитраты (по NO3)                                 мг/дм3                 24   \n",
       "Фосфаты (P)                                      мг/дм3               0.36   \n",
       "Хлориды (Cl)                                     мг/дм3                200   \n",
       "Сульфаты (SO4)                                   мг/дм3              189.5   \n",
       "Железо (включая хлорное железо) по Fe            мг/дм3              0.019   \n",
       "Нефть                                            мг/дм3               0.55   \n",
       "Общая минерализация (сухой остаток)              мг/дм3                590   \n",
       "Окисляемость перманганатная                      мг/дм3                  2   \n",
       "\n",
       "                                              Норматив В норме?  \n",
       "Показатель                                                       \n",
       "pH                                      в пределах 6-9       Да  \n",
       "Запах                                     не более 2-3       Да  \n",
       "Цветность                                  не более 30      NaN  \n",
       "Жёсткость                              в пределах 7-10       Да  \n",
       "Аммиак и аммоний-ион (по азоту)           не более 1,5       Да  \n",
       "Нитриты (по NO2)                          не более 3,3       Да  \n",
       "Нитраты (по NO3)                           не более 45       Да  \n",
       "Фосфаты (P)                               не более 3,5       Да  \n",
       "Хлориды (Cl)                              не более 350       Да  \n",
       "Сульфаты (SO4)                            не более 500       Да  \n",
       "Железо (включая хлорное железо) по Fe     не более 0,3       Да  \n",
       "Нефть                                     не более 0,3      Нет  \n",
       "Общая минерализация (сухой остаток)      не более 1000       Да  \n",
       "Окисляемость перманганатная               не более 0,5      Нет  "
      ]
     },
     "execution_count": 219,
     "metadata": {},
     "output_type": "execute_result"
    }
   ],
   "source": [
    "df"
   ]
  },
  {
   "cell_type": "markdown",
   "metadata": {},
   "source": [
    "Вывод: только два показателя выходят за пределы нормы в роднике в Нескучном саду"
   ]
  },
  {
   "cell_type": "markdown",
   "metadata": {
    "id": "gUvTNDlMaV-a"
   },
   "source": [
    "## Теория вероятности. События\n",
    "\n",
    "Требуется сгенерировать необходимые выборки и произвести по ним расчеты"
   ]
  },
  {
   "cell_type": "markdown",
   "metadata": {
    "id": "t0XOMos2Tl0e"
   },
   "source": [
    "### Задача 2\n",
    "В ящике 5 апельсинов и 4 яблока. Наудачу выбираются 3 фрукта. Какова вероятность, что все три фрукта – апельсины?\n",
    "\n",
    "В интернете полученный аналитически ответ 0.119. Подтверждается ли он эксперементально?\n"
   ]
  },
  {
   "cell_type": "code",
   "execution_count": 392,
   "metadata": {
    "id": "o7NjAE9uUo-L"
   },
   "outputs": [
    {
     "name": "stdout",
     "output_type": "stream",
     "text": [
      "0.125\n"
     ]
    }
   ],
   "source": [
    "# Ваше решение\n",
    "apple = 4\n",
    "orange = 5\n",
    "total = 9\n",
    "count = 0\n",
    "success = 0\n",
    "for a in range(1000):\n",
    "    count = 0\n",
    "    orange = 5\n",
    "    for i in range(1, 4):\n",
    "        if np.random.choice(('orange', 'apple'), 1, orange /(total - i)) == 'orange':\n",
    "            count += 1\n",
    "            orange -= 1\n",
    "    if count == 3:\n",
    "        success += 1\n",
    "print(success/1000)"
   ]
  },
  {
   "cell_type": "markdown",
   "metadata": {},
   "source": [
    "Экспериментально ответ схож с аналитическим"
   ]
  },
  {
   "cell_type": "markdown",
   "metadata": {
    "id": "g7A7QlvGTnwZ"
   },
   "source": [
    "### Задача 3\n",
    "Мастер, имея 10 деталей, из которых 3 – нестандартных, проверяет детали одну за другой, пока ему не попадется стандартная. Какова вероятность, что он проверит ровно две детали?\n",
    "\n",
    "\n",
    "В интернете полученный аналитически ответ 7/30 или 0.23333. Подтверждается ли он эксперементально?"
   ]
  },
  {
   "cell_type": "code",
   "execution_count": 402,
   "metadata": {},
   "outputs": [
    {
     "name": "stdout",
     "output_type": "stream",
     "text": [
      "0.228\n"
     ]
    }
   ],
   "source": [
    "# Ваше решение\n",
    "detail = 10\n",
    "unstadart = 3\n",
    "success = 0\n",
    "for a in range (1000):\n",
    "    count = 0\n",
    "    standart = detail - unstadart\n",
    "    for i in range(1, 3):\n",
    "        if np.random.choice(('standart', 'unstandart'), 1, standart / (detail - i)) == 'standart':\n",
    "            count += 1\n",
    "            standart -= 1\n",
    "    if count == 2:\n",
    "        success += 1\n",
    "print(success/1000)"
   ]
  }
 ],
 "metadata": {
  "celltoolbar": "Raw Cell Format",
  "colab": {
   "collapsed_sections": [],
   "name": "Практика к занятию 11.ipynb",
   "provenance": []
  },
  "kernelspec": {
   "display_name": "Python 3",
   "language": "python",
   "name": "python3"
  },
  "language_info": {
   "codemirror_mode": {
    "name": "ipython",
    "version": 3
   },
   "file_extension": ".py",
   "mimetype": "text/x-python",
   "name": "python",
   "nbconvert_exporter": "python",
   "pygments_lexer": "ipython3",
   "version": "3.8.8"
  },
  "toc": {
   "base_numbering": 1,
   "nav_menu": {},
   "number_sections": true,
   "sideBar": true,
   "skip_h1_title": false,
   "title_cell": "Table of Contents",
   "title_sidebar": "Contents",
   "toc_cell": true,
   "toc_position": {},
   "toc_section_display": true,
   "toc_window_display": false
  }
 },
 "nbformat": 4,
 "nbformat_minor": 1
}
